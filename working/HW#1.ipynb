{
 "cells": [
  {
   "cell_type": "code",
   "execution_count": 5,
   "metadata": {
    "collapsed": true
   },
   "outputs": [],
   "source": [
    "import numpy as np\n",
    "from matplotlib import pyplot\n",
    "%matplotlib inline"
   ]
  },
  {
   "cell_type": "code",
   "execution_count": 7,
   "metadata": {},
   "outputs": [
    {
     "data": {
      "text/plain": [
       "array([  4.        ,   4.45238095,   4.9047619 ,   5.35714286,\n",
       "         5.80952381,   6.26190476,   6.71428571,   7.16666667,\n",
       "         7.61904762,   8.07142857,   8.52380952,   8.97619048,\n",
       "         9.42857143,   9.88095238,  10.33333333,  10.78571429,\n",
       "        11.23809524,  11.69047619,  12.14285714,  12.5952381 ,\n",
       "        13.04761905,  13.5       ,  13.95238095,  14.4047619 ,\n",
       "        14.85714286,  15.30952381,  15.76190476,  16.21428571,\n",
       "        16.66666667,  17.11904762,  17.57142857,  18.02380952,\n",
       "        18.47619048,  18.92857143,  19.38095238,  19.83333333,\n",
       "        20.28571429,  20.73809524,  21.19047619,  21.64285714,\n",
       "        22.0952381 ,  22.54761905,  23.        ])"
      ]
     },
     "execution_count": 7,
     "metadata": {},
     "output_type": "execute_result"
    }
   ],
   "source": [
    "x = np.linspace(4, 23, 43)\n",
    "x"
   ]
  },
  {
   "cell_type": "code",
   "execution_count": 8,
   "metadata": {},
   "outputs": [
    {
     "name": "stdout",
     "output_type": "stream",
     "text": [
      "6.2619047619\n"
     ]
    }
   ],
   "source": [
    "print(x[5])"
   ]
  },
  {
   "cell_type": "code",
   "execution_count": 13,
   "metadata": {},
   "outputs": [
    {
     "name": "stdout",
     "output_type": "stream",
     "text": [
      "5\n",
      "17\n"
     ]
    }
   ],
   "source": [
    "ones_array = np.ones( (5,17) ) \n",
    "zeros_array = np.zeros( ones_array.shape ) \n",
    "print(zeros_array.shape[0])\n",
    "print(zeros_array.shape[1])"
   ]
  },
  {
   "cell_type": "code",
   "execution_count": 29,
   "metadata": {},
   "outputs": [
    {
     "data": {
      "text/plain": [
       "array([ 0.20030151,  0.99009101,  0.66454238])"
      ]
     },
     "execution_count": 29,
     "metadata": {},
     "output_type": "execute_result"
    }
   ],
   "source": [
    "p = 7\n",
    "r = np.array([11.2, 4.7, 6.6])\n",
    "np.sin(p/r)**3"
   ]
  },
  {
   "cell_type": "code",
   "execution_count": 25,
   "metadata": {
    "collapsed": true
   },
   "outputs": [],
   "source": [
    "import math\n",
    "import numpy as np\n",
    "from matplotlib import pyplot\n",
    "%matplotlib inline\n",
    "from matplotlib import rcParams\n",
    "rcParams['font.family'] = 'serif'\n",
    "rcParams['font.size'] = 16"
   ]
  },
  {
   "cell_type": "code",
   "execution_count": 41,
   "metadata": {},
   "outputs": [],
   "source": [
    "# model parameters:\n",
    "m_s = 50     # weight in kg\n",
    "g = 9.8      # gravity in m s^{-2}\n",
    "rho = 1.091  # average air density in kg m^{-3}\n",
    "r = 0.5      # in m\n",
    "A = math.pi*r**2   # maximum cross sectional area in m^{2}\n",
    "v_e = 325       # exhaust speed in m s^{-1}\n",
    "C_d = 0.15      # drag coefficient\n",
    "m_p0 = 100      # weight in kg\n",
    "\n",
    "### set initial conditions ###\n",
    "v0 = 0     # initial velocity\n",
    "h0 = 0  # initial altitude"
   ]
  },
  {
   "cell_type": "code",
   "execution_count": 42,
   "metadata": {
    "collapsed": true
   },
   "outputs": [],
   "source": [
    "T = 50                          # final time\n",
    "dt = 0.1                           # time increment\n",
    "N = int(T/dt) + 1                  # number of time-steps"
   ]
  },
  {
   "cell_type": "code",
   "execution_count": 49,
   "metadata": {
    "collapsed": true
   },
   "outputs": [],
   "source": [
    "def f(u):\n",
    "    \"\"\"Returns the right-hand side of the phugoid system of equations.\n",
    "    \n",
    "    Parameters\n",
    "    ----------\n",
    "    u : array of float\n",
    "        array containing the solution at time n.\n",
    "        \n",
    "    Returns\n",
    "    -------\n",
    "    dudt : array of float\n",
    "        array containing the RHS given u.\n",
    "    \"\"\"\n",
    "    \n",
    "    h = u[0]\n",
    "    v = u[1]\n",
    "    return np.array([v, -g+(m_pd*v_e)/(m_s+m_p)-rho*v*np.abs(v)*A*C_d/2*(m_s+m_p)])\n"
   ]
  },
  {
   "cell_type": "code",
   "execution_count": 50,
   "metadata": {
    "collapsed": true
   },
   "outputs": [],
   "source": [
    "def euler_step(u, f, dt):\n",
    "    \"\"\"Returns the solution at the next time-step using Euler's method.\n",
    "    \n",
    "    Parameters\n",
    "    ----------\n",
    "    u : array of float\n",
    "        solution at the previous time-step.\n",
    "    f : function\n",
    "        function to compute the right hand-side of the system of equations.\n",
    "    dt : float\n",
    "        time-increment.\n",
    "    \n",
    "    Returns\n",
    "    -------\n",
    "    u_n_plus_1 : array of float\n",
    "        approximate solution at the next time step.\n",
    "    \"\"\"\n",
    "    \n",
    "    return u + dt * f(u)"
   ]
  },
  {
   "cell_type": "code",
   "execution_count": 51,
   "metadata": {},
   "outputs": [
    {
     "name": "stderr",
     "output_type": "stream",
     "text": [
      "/opt/anaconda/lib/python3.6/site-packages/ipykernel_launcher.py:17: RuntimeWarning: overflow encountered in double_scalars\n",
      "/opt/anaconda/lib/python3.6/site-packages/ipykernel_launcher.py:19: RuntimeWarning: invalid value encountered in add\n",
      "/opt/anaconda/lib/python3.6/site-packages/ipykernel_launcher.py:17: RuntimeWarning: invalid value encountered in absolute\n"
     ]
    }
   ],
   "source": [
    "u = np.empty((N, 2))\n",
    "\n",
    "u[0] = np.array([h0, v0])\n",
    "\n",
    "for n in range(N-1):\n",
    "    if n*dt< 5:\n",
    "        m_pd = 20\n",
    "    else:\n",
    "        m_pd = 0\n",
    "    m_p = m_p0 - m_pd*n*dt \n",
    "    u[n+1] = euler_step(u[n], f, dt)"
   ]
  },
  {
   "cell_type": "code",
   "execution_count": 60,
   "metadata": {
    "collapsed": true
   },
   "outputs": [],
   "source": [
    "x = np.linspace(0, N*dt, N)\n",
    "y = h"
   ]
  },
  {
   "cell_type": "code",
   "execution_count": 62,
   "metadata": {},
   "outputs": [
    {
     "data": {
      "image/png": "[encoded data removed]",
      "text/plain": [
       "<matplotlib.figure.Figure at 0x7fe45b094710>"
      ]
     },
     "metadata": {},
     "output_type": "display_data"
    }
   ],
   "source": [
    "# visualization of the path\n",
    "pyplot.figure(figsize=(8,6))\n",
    "pyplot.grid(True)\n",
    "pyplot.xlabel(r't', fontsize=18)\n",
    "pyplot.ylabel(r'h', fontsize=18)\n",
    "pyplot.title('Glider trajectory, flight time = %.2f' % T, fontsize=18)\n",
    "pyplot.plot(x,y, 'k-', lw=2);"
   ]
  },
  {
   "cell_type": "code",
   "execution_count": null,
   "metadata": {
    "collapsed": true
   },
   "outputs": [],
   "source": []
  }
 ],
 "metadata": {
  "kernelspec": {
   "display_name": "Python 3",
   "language": "python",
   "name": "python3"
  },
  "language_info": {
   "codemirror_mode": {
    "name": "ipython",
    "version": 3
   },
   "file_extension": ".py",
   "mimetype": "text/x-python",
   "name": "python",
   "nbconvert_exporter": "python",
   "pygments_lexer": "ipython3",
   "version": "3.6.0"
  }
 },
 "nbformat": 4,
 "nbformat_minor": 2
}
